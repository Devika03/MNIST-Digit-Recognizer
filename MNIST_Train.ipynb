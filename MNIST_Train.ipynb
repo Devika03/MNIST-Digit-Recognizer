{
  "nbformat": 4,
  "nbformat_minor": 0,
  "metadata": {
    "colab": {
      "provenance": [],
      "gpuType": "T4"
    },
    "kernelspec": {
      "name": "python3",
      "display_name": "Python 3"
    },
    "language_info": {
      "name": "python"
    },
    "accelerator": "GPU"
  },
  "cells": [
    {
      "cell_type": "code",
      "execution_count": 2,
      "metadata": {
        "id": "Giol8YFfzHmN"
      },
      "outputs": [],
      "source": [
        "import cv2 as cv #For Image Processing\n",
        "import numpy as np\n",
        "import tensorflow as tf #To download the dataset\n",
        "import matplotlib as plt\n",
        "\n",
        "from keras.models import Sequential , load_model\n",
        "from keras.layers import Dense , Conv2D , Dropout , Flatten , MaxPooling2D"
      ]
    },
    {
      "cell_type": "code",
      "source": [
        "(x_train , y_train) , (x_test ,y_test) = tf.keras.datasets.mnist.load_data()\n",
        "#x_train - Images , y_train - Labels"
      ],
      "metadata": {
        "colab": {
          "base_uri": "https://localhost:8080/"
        },
        "id": "rM7eaDFc_Iku",
        "outputId": "a1894c95-8ef6-4b5a-f862-d7fd92011249"
      },
      "execution_count": 3,
      "outputs": [
        {
          "output_type": "stream",
          "name": "stdout",
          "text": [
            "Downloading data from https://storage.googleapis.com/tensorflow/tf-keras-datasets/mnist.npz\n",
            "11490434/11490434 [==============================] - 0s 0us/step\n"
          ]
        }
      ]
    },
    {
      "cell_type": "code",
      "source": [
        "x_train.shape\n",
        "#60000 images of size 28x28"
      ],
      "metadata": {
        "colab": {
          "base_uri": "https://localhost:8080/"
        },
        "id": "3DFsI946cp8B",
        "outputId": "3727d1f1-921e-40be-cd33-84bf4bb48213"
      },
      "execution_count": 4,
      "outputs": [
        {
          "output_type": "execute_result",
          "data": {
            "text/plain": [
              "(60000, 28, 28)"
            ]
          },
          "metadata": {},
          "execution_count": 4
        }
      ]
    },
    {
      "cell_type": "code",
      "source": [
        "y_train.shape\n",
        "#60000 Labels"
      ],
      "metadata": {
        "colab": {
          "base_uri": "https://localhost:8080/"
        },
        "id": "Ez6Ppd_Wc8mc",
        "outputId": "fb6eb09e-6b0c-427f-b708-31377362e6e8"
      },
      "execution_count": 5,
      "outputs": [
        {
          "output_type": "execute_result",
          "data": {
            "text/plain": [
              "(60000,)"
            ]
          },
          "metadata": {},
          "execution_count": 5
        }
      ]
    },
    {
      "cell_type": "code",
      "source": [
        "x_train = x_train.reshape(x_train.shape[0], 28 , 28 , 1) #Extend 1 dimension and it is done to pass the input dataset into neural network.\n",
        "x_test = x_test.reshape(x_test.shape[0], 28 , 28 , 1) #Extend 1 dimension and it is done to pass the input dataset into neural network."
      ],
      "metadata": {
        "id": "Z4itIurvdOUF"
      },
      "execution_count": 6,
      "outputs": []
    },
    {
      "cell_type": "code",
      "source": [
        "x_train = x_train / 255.0 #Pixel range is from 0 to 255. We want to bring it in the range 0 to 1.\n",
        "x_test = x_test / 255.0"
      ],
      "metadata": {
        "id": "qxLfhoBBd6fV"
      },
      "execution_count": 7,
      "outputs": []
    },
    {
      "cell_type": "code",
      "source": [
        "print('Number of images in x_train : ' , x_train.shape[0])\n",
        "print('Number of images in x_test : ' , x_test.shape[0])"
      ],
      "metadata": {
        "colab": {
          "base_uri": "https://localhost:8080/"
        },
        "id": "FMbe3VhoeUjH",
        "outputId": "c04ee3ce-e8d9-4d40-e096-42dc3b4014bc"
      },
      "execution_count": 8,
      "outputs": [
        {
          "output_type": "stream",
          "name": "stdout",
          "text": [
            "Number of images in x_train :  60000\n",
            "Number of images in x_test :  10000\n"
          ]
        }
      ]
    },
    {
      "cell_type": "markdown",
      "source": [
        "#Model Building :\n",
        "\n",
        "\n"
      ],
      "metadata": {
        "id": "OdQBPCyPfBj0"
      }
    },
    {
      "cell_type": "code",
      "source": [
        "model = Sequential() #To create a model of stack of layers.\n",
        "\n",
        "model.add(Conv2D(32, kernel_size=(3,3), input_shape=(28,28,1)))\n",
        "model.add(Conv2D(32, kernel_size=(3,3)))\n",
        "\n",
        "model.add(MaxPooling2D(pool_size=(2,2)))\n",
        "\n",
        "model.add(Conv2D(64, kernel_size=(3,3)))\n",
        "model.add(Conv2D(64, kernel_size=(3,3)))\n",
        "\n",
        "model.add(MaxPooling2D(pool_size=(2,2)))\n",
        "\n",
        "model.add(Flatten())# To convert from Multidimensional tensor to 1-D Array\n",
        "model.add(Dense(128,activation=tf.nn.relu))\n",
        "model.add(Dropout(0.2))\n",
        "\n",
        "model.add(Dense(10,activation=tf.nn.softmax))\n",
        "\n",
        "model.compile( optimizer='adam' , loss='sparse_categorical_crossentropy', metrics=['accuracy'])\n",
        "model.fit(x=x_train , y=y_train , epochs=15)"
      ],
      "metadata": {
        "colab": {
          "base_uri": "https://localhost:8080/"
        },
        "id": "SWi2VwCgfHKD",
        "outputId": "f8eff114-e544-4886-90c0-c8354600f3b5"
      },
      "execution_count": 9,
      "outputs": [
        {
          "output_type": "stream",
          "name": "stdout",
          "text": [
            "Epoch 1/15\n",
            "1875/1875 [==============================] - 14s 4ms/step - loss: 0.1540 - accuracy: 0.9522\n",
            "Epoch 2/15\n",
            "1875/1875 [==============================] - 8s 4ms/step - loss: 0.0679 - accuracy: 0.9796\n",
            "Epoch 3/15\n",
            "1875/1875 [==============================] - 8s 4ms/step - loss: 0.0567 - accuracy: 0.9828\n",
            "Epoch 4/15\n",
            "1875/1875 [==============================] - 7s 4ms/step - loss: 0.0471 - accuracy: 0.9857\n",
            "Epoch 5/15\n",
            "1875/1875 [==============================] - 8s 4ms/step - loss: 0.0414 - accuracy: 0.9870\n",
            "Epoch 6/15\n",
            "1875/1875 [==============================] - 8s 4ms/step - loss: 0.0400 - accuracy: 0.9875\n",
            "Epoch 7/15\n",
            "1875/1875 [==============================] - 7s 4ms/step - loss: 0.0363 - accuracy: 0.9893\n",
            "Epoch 8/15\n",
            "1875/1875 [==============================] - 8s 4ms/step - loss: 0.0346 - accuracy: 0.9894\n",
            "Epoch 9/15\n",
            "1875/1875 [==============================] - 8s 4ms/step - loss: 0.0299 - accuracy: 0.9911\n",
            "Epoch 10/15\n",
            "1875/1875 [==============================] - 8s 4ms/step - loss: 0.0313 - accuracy: 0.9908\n",
            "Epoch 11/15\n",
            "1875/1875 [==============================] - 8s 4ms/step - loss: 0.0302 - accuracy: 0.9908\n",
            "Epoch 12/15\n",
            "1875/1875 [==============================] - 7s 4ms/step - loss: 0.0260 - accuracy: 0.9924\n",
            "Epoch 13/15\n",
            "1875/1875 [==============================] - 8s 4ms/step - loss: 0.0324 - accuracy: 0.9911\n",
            "Epoch 14/15\n",
            "1875/1875 [==============================] - 8s 4ms/step - loss: 0.0266 - accuracy: 0.9926\n",
            "Epoch 15/15\n",
            "1875/1875 [==============================] - 7s 4ms/step - loss: 0.0261 - accuracy: 0.9924\n"
          ]
        },
        {
          "output_type": "execute_result",
          "data": {
            "text/plain": [
              "<keras.src.callbacks.History at 0x7cab17902230>"
            ]
          },
          "metadata": {},
          "execution_count": 9
        }
      ]
    },
    {
      "cell_type": "code",
      "source": [
        "model.evaluate(x_test,y_test) #98.8% Accuracy"
      ],
      "metadata": {
        "colab": {
          "base_uri": "https://localhost:8080/"
        },
        "id": "-qw9unbLi2gf",
        "outputId": "9adb7fed-d6af-4e1d-c4cd-adfb30884ec6"
      },
      "execution_count": 10,
      "outputs": [
        {
          "output_type": "stream",
          "name": "stdout",
          "text": [
            "313/313 [==============================] - 2s 4ms/step - loss: 0.0705 - accuracy: 0.9881\n"
          ]
        },
        {
          "output_type": "execute_result",
          "data": {
            "text/plain": [
              "[0.07047249376773834, 0.988099992275238]"
            ]
          },
          "metadata": {},
          "execution_count": 10
        }
      ]
    },
    {
      "cell_type": "code",
      "source": [
        "model.save('CNN.hdf5')"
      ],
      "metadata": {
        "colab": {
          "base_uri": "https://localhost:8080/"
        },
        "id": "j7lidWqamuhn",
        "outputId": "244bda66-afae-418a-d8c4-6437a45636c2"
      },
      "execution_count": 11,
      "outputs": [
        {
          "output_type": "stream",
          "name": "stderr",
          "text": [
            "/usr/local/lib/python3.10/dist-packages/keras/src/engine/training.py:3103: UserWarning: You are saving your model as an HDF5 file via `model.save()`. This file format is considered legacy. We recommend using instead the native Keras format, e.g. `model.save('my_model.keras')`.\n",
            "  saving_api.save_model(\n"
          ]
        }
      ]
    }
  ]
}